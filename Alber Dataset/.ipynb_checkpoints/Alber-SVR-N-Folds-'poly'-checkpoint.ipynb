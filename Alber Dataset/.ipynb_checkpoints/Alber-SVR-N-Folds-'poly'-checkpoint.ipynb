{
 "cells": [
  {
   "cell_type": "code",
   "execution_count": 1,
   "metadata": {},
   "outputs": [],
   "source": [
    "import numpy as np\n",
    "import pandas as pd\n",
    "\n",
    "from sklearn import preprocessing, svm\n",
    "from sklearn.preprocessing import MinMaxScaler\n",
    "from sklearn.metrics import mean_absolute_error\n",
    "\n",
    "import time\n",
    "import matplotlib.pyplot as plt"
   ]
  },
  {
   "cell_type": "code",
   "execution_count": null,
   "metadata": {},
   "outputs": [],
   "source": [
    "number_of_folds = 24"
   ]
  },
  {
   "cell_type": "code",
   "execution_count": null,
   "metadata": {},
   "outputs": [],
   "source": [
    "def k10Fold(nfolds,data):\n",
    "    isOdd = False\n",
    "    efsize = len(data)//nfolds\n",
    "    if len(data)-efsize*nfolds:\n",
    "        isOdd = True\n",
    "    folds = []\n",
    "    foldscounter = 0\n",
    "    counter = 0\n",
    "    curfold = []\n",
    "    i = 0\n",
    "    for item in data:\n",
    "        if foldscounter < nfolds+1:   #rows / folds\n",
    "            if counter < efsize :\n",
    "                curfold.append(i)\n",
    "                counter += 1\n",
    "            else:\n",
    "                foldscounter+=1\n",
    "                if foldscounter != nfolds:\n",
    "                    folds.append(curfold)\n",
    "                    \n",
    "                    curfold = []\n",
    "                    curfold.append(i)\n",
    "                    counter = 1\n",
    "            i+=1\n",
    "        else:\n",
    "            curfold.append(i)\n",
    "            i+=1\n",
    "    folds.append(curfold)\n",
    "    print(folds)\n",
    "    return folds\n",
    "def trainTestSpliter(testFolIndex,data):\n",
    "    test_data = []\n",
    "    train_data = []\n",
    "    for i in range(len(data)):\n",
    "        if i not in testFolIndex:\n",
    "            train_data.append(data[i])\n",
    "        else:\n",
    "            test_data.append(data[i])\n",
    "    return np.array(train_data), np.array(test_data)\n",
    "def dataTargetSpluter(train_d,test_d):\n",
    "    train_x = []\n",
    "    train_y = []\n",
    "    test_x = []\n",
    "    test_y = []\n",
    "    for i in train_d:\n",
    "        train_x.append(i[:6])\n",
    "        train_y.append(i[6])\n",
    "    for i in test_d:\n",
    "        test_x.append(i[:6])\n",
    "        test_y.append(i[6])\n",
    "    return np.array(train_x), np.array(train_y), np.array(test_x), np.array(test_y)"
   ]
  },
  {
   "cell_type": "code",
   "execution_count": null,
   "metadata": {},
   "outputs": [
    {
     "name": "stdout",
     "output_type": "stream",
     "text": [
      "[[0], [1], [2], [3], [4], [5], [6], [7], [8], [9], [10], [11], [12], [13], [14], [15], [16], [17], [18], [19], [20], [21], [22], [23]]\n"
     ]
    }
   ],
   "source": [
    "filename = \"alber.csv\"\n",
    "df = pd.read_csv(filename, header=0, usecols=[\"IN\",\"OUT\",\"INQ\",\"FILE\",\"ADJ\",\"FP\",\"EFFORT\"])\n",
    "\"\"\"scaler = MinMaxScaler()\n",
    "scaled_data = scaler.fit_transform(df)\"\"\"\n",
    "scaled_data = np.array(df)\n",
    "foldsIndex = k10Fold(number_of_folds,scaled_data)"
   ]
  },
  {
   "cell_type": "code",
   "execution_count": null,
   "metadata": {
    "scrolled": false
   },
   "outputs": [
    {
     "name": "stdout",
     "output_type": "stream",
     "text": [
      "Result with 24Folds!\n",
      " \n",
      "Fold  # 1\n"
     ]
    },
    {
     "name": "stderr",
     "output_type": "stream",
     "text": [
      "c:\\users\\ramin\\appdata\\local\\programs\\python\\python36\\lib\\site-packages\\sklearn\\svm\\base.py:196: FutureWarning: The default value of gamma will change from 'auto' to 'scale' in version 0.22 to account better for unscaled features. Set gamma explicitly to 'auto' or 'scale' to avoid this warning.\n",
      "  \"avoid this warning.\", FutureWarning)\n"
     ]
    }
   ],
   "source": [
    "all_test_y = []\n",
    "all_test_predication = []\n",
    "avg_ame=0\n",
    "print(\"Result with 24Folds!\")\n",
    "for i in range(number_of_folds):\n",
    "    start  = time.time()\n",
    "    model = svm.SVR(kernel='poly')\n",
    "    print(\" \")\n",
    "    print(\"Fold \",\"#\",i+1)\n",
    "    train_data, test_data = trainTestSpliter(foldsIndex[i],scaled_data)\n",
    "    train_x, train_y, test_x, test_y = dataTargetSpluter(train_data,test_data)\n",
    "    model.fit(train_x, train_y)\n",
    "    all_data_x =[]\n",
    "    all_data_y = []\n",
    "\n",
    "    for i in scaled_data:\n",
    "        all_data_x.append(i[:6])\n",
    "        all_data_y.append(i[6])\n",
    "\n",
    "    all_data_x = np.array(all_data_x)\n",
    "    all_data_y = np.array(all_data_y)\n",
    "    prediction = model.predict(all_data_x)\n",
    "    end = time.time()\n",
    "\n",
    "    plt.plot(prediction, label=\"Model Prediction\")\n",
    "    plt.plot(all_data_y, label=\"Real\")\n",
    "    plt.legend()\n",
    "    plt.show()\n",
    "\n",
    "\n",
    "    for i in range(len(prediction)):\n",
    "        print(\"Prediction : \", prediction[i],\"     \",\"real :\", all_data_y[i])\n",
    "    print(\"All-data-MAE: \",mean_absolute_error(all_data_y,prediction))\n",
    "    \n",
    "    prediction = model.predict(test_x)\n",
    "    print(\"Test-MAE: \",mean_absolute_error(test_y,prediction))\n",
    "    all_test_y.append(test_y)\n",
    "    all_test_predication.append(prediction)\n",
    "    avg_ame+=mean_absolute_error(test_y,prediction)\n",
    "    print(\"Took: \",end-start)\n",
    "    print(\"#################################################################################################\")\n",
    "print(\"\\n \\n avg test-MAE : \",avg_ame/number_of_folds)"
   ]
  },
  {
   "cell_type": "code",
   "execution_count": null,
   "metadata": {},
   "outputs": [],
   "source": [
    "import statistics \n",
    "maes=[]\n",
    "pred_25 = []\n",
    "pred_50 = []\n",
    "for i in range(len(all_test_y)):\n",
    "    #print((abs(all_test_y[i]-all_test_predication[i])/all_test_y[i]))\n",
    "    maes.append((abs(all_test_y[i]-all_test_predication[i])/all_test_y[i]))\n",
    "    if (abs(all_test_y[i]-all_test_predication[i])/all_test_y[i])<0.25:\n",
    "        pred_25.append(abs(all_test_y[i]-all_test_predication[i])/all_test_y[i])\n",
    "    elif (abs(all_test_y[i]-all_test_predication[i])/all_test_y[i])<0.50:\n",
    "        pred_50.append(abs(all_test_y[i]-all_test_predication[i])/all_test_y[i])\n",
    "sum = 0\n",
    "for i in maes:\n",
    "    sum+=i\n",
    "print(\"MMRE\", sum/len(maes))\n",
    "print(\"PRED 0.25: \", (((100/23)*len(pred_25)))/100)\n",
    "print(\"PRED 0.50: \", (((100/23)*len(pred_50)))/100)\n",
    "print(\"Median: \",statistics.median(maes))"
   ]
  }
 ],
 "metadata": {
  "kernelspec": {
   "display_name": "Python 3",
   "language": "python",
   "name": "python3"
  },
  "language_info": {
   "codemirror_mode": {
    "name": "ipython",
    "version": 3
   },
   "file_extension": ".py",
   "mimetype": "text/x-python",
   "name": "python",
   "nbconvert_exporter": "python",
   "pygments_lexer": "ipython3",
   "version": "3.6.8"
  }
 },
 "nbformat": 4,
 "nbformat_minor": 2
}
