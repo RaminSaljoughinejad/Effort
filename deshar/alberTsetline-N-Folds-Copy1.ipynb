{
 "cells": [
  {
   "cell_type": "code",
   "execution_count": 1,
   "metadata": {
    "colab": {},
    "colab_type": "code",
    "id": "H9GQzEXRoAxG"
   },
   "outputs": [
    {
     "ename": "ModuleNotFoundError",
     "evalue": "No module named 'pyTsetlinMachine'",
     "output_type": "error",
     "traceback": [
      "\u001b[1;31m---------------------------------------------------------------------------\u001b[0m",
      "\u001b[1;31mModuleNotFoundError\u001b[0m                       Traceback (most recent call last)",
      "\u001b[1;32m<ipython-input-1-359c3f3132d4>\u001b[0m in \u001b[0;36m<module>\u001b[1;34m\u001b[0m\n\u001b[0;32m      9\u001b[0m \u001b[1;33m\u001b[0m\u001b[0m\n\u001b[0;32m     10\u001b[0m \u001b[1;33m\u001b[0m\u001b[0m\n\u001b[1;32m---> 11\u001b[1;33m \u001b[1;32mimport\u001b[0m \u001b[0mpyTsetlinMachine\u001b[0m\u001b[1;33m\u001b[0m\u001b[1;33m\u001b[0m\u001b[0m\n\u001b[0m\u001b[0;32m     12\u001b[0m \u001b[1;32mfrom\u001b[0m \u001b[0mpyTsetlinMachine\u001b[0m\u001b[1;33m.\u001b[0m\u001b[0mtm\u001b[0m \u001b[1;32mimport\u001b[0m \u001b[0mMultiClassTsetlinMachine\u001b[0m\u001b[1;33m\u001b[0m\u001b[1;33m\u001b[0m\u001b[0m\n\u001b[0;32m     13\u001b[0m \u001b[1;32mfrom\u001b[0m \u001b[0mpyTsetlinMachine\u001b[0m\u001b[1;33m.\u001b[0m\u001b[0mtm\u001b[0m \u001b[1;32mimport\u001b[0m \u001b[0mRegressionTsetlinMachine\u001b[0m\u001b[1;33m\u001b[0m\u001b[1;33m\u001b[0m\u001b[0m\n",
      "\u001b[1;31mModuleNotFoundError\u001b[0m: No module named 'pyTsetlinMachine'"
     ]
    }
   ],
   "source": [
    "import numpy as np\n",
    "import pandas as pd\n",
    "import time\n",
    "import matplotlib.pyplot as plt\n",
    "\n",
    "from sklearn.preprocessing import MinMaxScaler\n",
    "from sklearn.metrics import mean_absolute_error\n",
    "from sklearn.model_selection import train_test_split\n",
    "\n",
    "\n",
    "import pyTsetlinMachine\n",
    "from pyTsetlinMachine.tm import MultiClassTsetlinMachine\n",
    "from pyTsetlinMachine.tm import RegressionTsetlinMachine\n",
    "from pyTsetlinMachine.tools import Binarizer\n"
   ]
  },
  {
   "cell_type": "code",
   "execution_count": null,
   "metadata": {},
   "outputs": [],
   "source": [
    "number_of_folds = 24"
   ]
  },
  {
   "cell_type": "code",
   "execution_count": null,
   "metadata": {},
   "outputs": [],
   "source": [
    "def k10Fold(nfolds,data):\n",
    "    isOdd = False\n",
    "    efsize = len(data)//nfolds\n",
    "    if len(data)-efsize*nfolds:\n",
    "        isOdd = True\n",
    "    folds = []\n",
    "    foldscounter = 0\n",
    "    counter = 0\n",
    "    curfold = []\n",
    "    i = 0\n",
    "    for item in data:\n",
    "        if foldscounter < nfolds+1:   #rows / folds\n",
    "            if counter < efsize :\n",
    "                curfold.append(i)\n",
    "                counter += 1\n",
    "            else:\n",
    "                foldscounter+=1\n",
    "                if foldscounter != nfolds:\n",
    "                    folds.append(curfold)\n",
    "                    \n",
    "                    curfold = []\n",
    "                    curfold.append(i)\n",
    "                    counter = 1\n",
    "            i+=1\n",
    "        else:\n",
    "            curfold.append(i)\n",
    "            i+=1\n",
    "    folds.append(curfold)\n",
    "    print(folds)\n",
    "    return folds\n",
    "def trainTestSpliter(testFolIndex,data):\n",
    "    test_data = []\n",
    "    train_data = []\n",
    "    for i in range(len(data)):\n",
    "        if i not in testFolIndex:\n",
    "            train_data.append(data[i])\n",
    "        else:\n",
    "            test_data.append(data[i])\n",
    "    return np.array(train_data), np.array(test_data)\n",
    "def dataTargetSpluter(train_d,test_d):\n",
    "    train_x = []\n",
    "    train_y = []\n",
    "    test_x = []\n",
    "    test_y = []\n",
    "    for i in train_d:\n",
    "        train_x.append(i[:9])\n",
    "        train_y.append(i[9])\n",
    "    for i in test_d:\n",
    "        test_x.append(i[:9])\n",
    "        test_y.append(i[9])\n",
    "    return np.array(train_x), np.array(train_y), np.array(test_x), np.array(test_y)"
   ]
  },
  {
   "cell_type": "code",
   "execution_count": null,
   "metadata": {
    "colab": {},
    "colab_type": "code",
    "id": "r326MyPMoHck"
   },
   "outputs": [],
   "source": [
    "x = np.loadtxt(\"deshar.txt\")\n",
    "df = pd.DataFrame(x,columns = [\"F1\",\"F2\",\"F3\",\"F4\",\"F5\",\"F6\",\"F7\",\"F8\",\"F9\",\"Effort\"])"
   ]
  },
  {
   "cell_type": "code",
   "execution_count": null,
   "metadata": {
    "colab": {},
    "colab_type": "code",
    "id": "zyVd_8mjofrg"
   },
   "outputs": [],
   "source": [
    "scaler = MinMaxScaler()\n",
    "scaled_data = scaler.fit_transform(df)"
   ]
  },
  {
   "cell_type": "code",
   "execution_count": null,
   "metadata": {},
   "outputs": [],
   "source": [
    "foldsIndex = k10Fold(number_of_folds,scaled_data)"
   ]
  },
  {
   "cell_type": "code",
   "execution_count": null,
   "metadata": {
    "colab": {
     "base_uri": "https://localhost:8080/",
     "height": 376
    },
    "colab_type": "code",
    "executionInfo": {
     "elapsed": 2620,
     "status": "ok",
     "timestamp": 1574857044088,
     "user": {
      "displayName": "Ramin Saljoughinejad",
      "photoUrl": "",
      "userId": "00616084459728254601"
     },
     "user_tz": 480
    },
    "id": "OHHF4co2pmg3",
    "outputId": "6bd58a07-819a-4277-9adf-ba6eb50cdb26"
   },
   "outputs": [],
   "source": [
    "avg_ame=0\n",
    "for i in range(number_of_folds):\n",
    "    print(\" \")\n",
    "    print(\"Fold \",\"#\",i+1)\n",
    "    start  = time.time()\n",
    "    model = RegressionTsetlinMachine(3000, 1400, 3.2)\n",
    "    \n",
    "    train_data, test_data = trainTestSpliter(foldsIndex[i],scaled_data)\n",
    "    train_x, train_y, test_x, test_y = dataTargetSpluter(train_data,test_data)\n",
    "    \n",
    "    b = Binarizer(max_bits_per_feature = 10)\n",
    "    b.fit(train_x)\n",
    "    X_transformed_train = b.transform(train_x)\n",
    "    \n",
    "    b = Binarizer(max_bits_per_feature = 10)\n",
    "    b.fit(test_x)\n",
    "    X_transformed_test = b.transform(test_x)\n",
    "    \n",
    "    model.fit(X_transformed_train, train_y, epochs=150)\n",
    "    \n",
    "    all_data_x =[]\n",
    "    all_data_y = []\n",
    "\n",
    "    for i in scaled_data:\n",
    "        all_data_x.append(i[:9])\n",
    "        all_data_y.append(i[9])\n",
    "\n",
    "    all_data_x = np.array(all_data_x)\n",
    "    all_data_y = np.array(all_data_y)\n",
    "    \n",
    "    b = Binarizer(max_bits_per_feature = 10)\n",
    "    b.fit(all_data_x)\n",
    "    X_transformed_all_data_x = b.transform(all_data_x)\n",
    "    prediction = model.predict(X_transformed_all_data_x)\n",
    "    end = time.time()\n",
    "\n",
    "    plt.plot(prediction, label=\"Model Prediction\")\n",
    "    plt.plot(all_data_y, label=\"Real\")\n",
    "    plt.legend()\n",
    "    plt.show()\n",
    "\n",
    "\n",
    "    for i in range(len(prediction)):\n",
    "        print(\"Prediction : \", prediction[i],\"     \",\"real :\", all_data_y[i])\n",
    "    print(\"All-data-MAE: \",mean_absolute_error(all_data_y,prediction))\n",
    "    \n",
    "    prediction = model.predict(X_transformed_test)\n",
    "    print(\"Test-MAE: \",mean_absolute_error(test_y,prediction))\n",
    "    avg_ame+=mean_absolute_error(test_y,prediction)\n",
    "    print(\"Took: \",end-start, \"Seconds\")\n",
    "    print(\"#################################################################################################\")\n",
    "print(\"\\n \\n avg test-MAE : \",avg_ame/number_of_folds)"
   ]
  }
 ],
 "metadata": {
  "colab": {
   "name": "alberTsetline.ipynb",
   "provenance": []
  },
  "kernelspec": {
   "display_name": "Python 3",
   "language": "python",
   "name": "python3"
  },
  "language_info": {
   "codemirror_mode": {
    "name": "ipython",
    "version": 3
   },
   "file_extension": ".py",
   "mimetype": "text/x-python",
   "name": "python",
   "nbconvert_exporter": "python",
   "pygments_lexer": "ipython3",
   "version": "3.6.8"
  }
 },
 "nbformat": 4,
 "nbformat_minor": 1
}
