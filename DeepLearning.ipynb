{
 "cells": [
  {
   "cell_type": "code",
   "execution_count": 1,
   "metadata": {},
   "outputs": [
    {
     "name": "stderr",
     "output_type": "stream",
     "text": [
      "Using TensorFlow backend.\n"
     ]
    }
   ],
   "source": [
    "import numpy as np\n",
    "import pandas as pd\n",
    "from sklearn.preprocessing import MinMaxScaler\n",
    "import keras\n",
    "from keras.models import Sequential\n",
    "from keras.layers import Dense\n",
    "from keras.optimizers import Adam, SGD\n",
    "from keras.metrics import MAE,MAPE,mean_squared_error,mean_absolute_percentage_error\n",
    "from keras.losses import MAE,MAPE,mean_squared_error,mean_absolute_percentage_error\n",
    "import time"
   ]
  },
  {
   "cell_type": "code",
   "execution_count": 2,
   "metadata": {},
   "outputs": [],
   "source": [
    "import matplotlib.pyplot as plt"
   ]
  },
  {
   "cell_type": "code",
   "execution_count": 3,
   "metadata": {},
   "outputs": [],
   "source": [
    "filename = \"alber.csv\"\n",
    "df = pd.read_csv(filename, header=0, usecols=[\"IN\",\"OUT\",\"INQ\",\"FILE\",\"ADJ\",\"FP\",\"EFFORT\"])"
   ]
  },
  {
   "cell_type": "code",
   "execution_count": 4,
   "metadata": {},
   "outputs": [
    {
     "name": "stdout",
     "output_type": "stream",
     "text": [
      "<class 'pandas.core.frame.DataFrame'>\n",
      "RangeIndex: 24 entries, 0 to 23\n",
      "Data columns (total 7 columns):\n",
      "IN        24 non-null int64\n",
      "OUT       24 non-null int64\n",
      "INQ       24 non-null int64\n",
      "FILE      24 non-null int64\n",
      "ADJ       24 non-null float64\n",
      "FP        24 non-null int64\n",
      "EFFORT    24 non-null float64\n",
      "dtypes: float64(2), int64(5)\n",
      "memory usage: 1.4 KB\n"
     ]
    }
   ],
   "source": [
    "df.info()"
   ]
  },
  {
   "cell_type": "code",
   "execution_count": 5,
   "metadata": {},
   "outputs": [
    {
     "data": {
      "text/html": [
       "<div>\n",
       "<style scoped>\n",
       "    .dataframe tbody tr th:only-of-type {\n",
       "        vertical-align: middle;\n",
       "    }\n",
       "\n",
       "    .dataframe tbody tr th {\n",
       "        vertical-align: top;\n",
       "    }\n",
       "\n",
       "    .dataframe thead th {\n",
       "        text-align: right;\n",
       "    }\n",
       "</style>\n",
       "<table border=\"1\" class=\"dataframe\">\n",
       "  <thead>\n",
       "    <tr style=\"text-align: right;\">\n",
       "      <th></th>\n",
       "      <th>IN</th>\n",
       "      <th>OUT</th>\n",
       "      <th>INQ</th>\n",
       "      <th>FILE</th>\n",
       "      <th>ADJ</th>\n",
       "      <th>FP</th>\n",
       "      <th>EFFORT</th>\n",
       "    </tr>\n",
       "  </thead>\n",
       "  <tbody>\n",
       "    <tr>\n",
       "      <th>count</th>\n",
       "      <td>24.000000</td>\n",
       "      <td>24.000000</td>\n",
       "      <td>24.000000</td>\n",
       "      <td>24.000000</td>\n",
       "      <td>24.000000</td>\n",
       "      <td>24.000000</td>\n",
       "      <td>24.000000</td>\n",
       "    </tr>\n",
       "    <tr>\n",
       "      <th>mean</th>\n",
       "      <td>40.250000</td>\n",
       "      <td>47.250000</td>\n",
       "      <td>16.875000</td>\n",
       "      <td>17.375000</td>\n",
       "      <td>0.989583</td>\n",
       "      <td>647.625000</td>\n",
       "      <td>21.875000</td>\n",
       "    </tr>\n",
       "    <tr>\n",
       "      <th>std</th>\n",
       "      <td>36.913824</td>\n",
       "      <td>35.169466</td>\n",
       "      <td>19.337534</td>\n",
       "      <td>15.522249</td>\n",
       "      <td>0.135116</td>\n",
       "      <td>487.995261</td>\n",
       "      <td>28.417895</td>\n",
       "    </tr>\n",
       "    <tr>\n",
       "      <th>min</th>\n",
       "      <td>7.000000</td>\n",
       "      <td>12.000000</td>\n",
       "      <td>0.000000</td>\n",
       "      <td>3.000000</td>\n",
       "      <td>0.750000</td>\n",
       "      <td>199.000000</td>\n",
       "      <td>0.500000</td>\n",
       "    </tr>\n",
       "    <tr>\n",
       "      <th>25%</th>\n",
       "      <td>23.000000</td>\n",
       "      <td>18.500000</td>\n",
       "      <td>3.250000</td>\n",
       "      <td>5.750000</td>\n",
       "      <td>0.887500</td>\n",
       "      <td>287.500000</td>\n",
       "      <td>7.150000</td>\n",
       "    </tr>\n",
       "    <tr>\n",
       "      <th>50%</th>\n",
       "      <td>33.500000</td>\n",
       "      <td>39.000000</td>\n",
       "      <td>13.500000</td>\n",
       "      <td>11.500000</td>\n",
       "      <td>1.000000</td>\n",
       "      <td>506.000000</td>\n",
       "      <td>11.450000</td>\n",
       "    </tr>\n",
       "    <tr>\n",
       "      <th>75%</th>\n",
       "      <td>43.500000</td>\n",
       "      <td>64.500000</td>\n",
       "      <td>20.250000</td>\n",
       "      <td>22.250000</td>\n",
       "      <td>1.100000</td>\n",
       "      <td>710.250000</td>\n",
       "      <td>19.525000</td>\n",
       "    </tr>\n",
       "    <tr>\n",
       "      <th>max</th>\n",
       "      <td>193.000000</td>\n",
       "      <td>150.000000</td>\n",
       "      <td>75.000000</td>\n",
       "      <td>60.000000</td>\n",
       "      <td>1.200000</td>\n",
       "      <td>1902.000000</td>\n",
       "      <td>105.200000</td>\n",
       "    </tr>\n",
       "  </tbody>\n",
       "</table>\n",
       "</div>"
      ],
      "text/plain": [
       "               IN         OUT        INQ       FILE        ADJ           FP  \\\n",
       "count   24.000000   24.000000  24.000000  24.000000  24.000000    24.000000   \n",
       "mean    40.250000   47.250000  16.875000  17.375000   0.989583   647.625000   \n",
       "std     36.913824   35.169466  19.337534  15.522249   0.135116   487.995261   \n",
       "min      7.000000   12.000000   0.000000   3.000000   0.750000   199.000000   \n",
       "25%     23.000000   18.500000   3.250000   5.750000   0.887500   287.500000   \n",
       "50%     33.500000   39.000000  13.500000  11.500000   1.000000   506.000000   \n",
       "75%     43.500000   64.500000  20.250000  22.250000   1.100000   710.250000   \n",
       "max    193.000000  150.000000  75.000000  60.000000   1.200000  1902.000000   \n",
       "\n",
       "           EFFORT  \n",
       "count   24.000000  \n",
       "mean    21.875000  \n",
       "std     28.417895  \n",
       "min      0.500000  \n",
       "25%      7.150000  \n",
       "50%     11.450000  \n",
       "75%     19.525000  \n",
       "max    105.200000  "
      ]
     },
     "execution_count": 5,
     "metadata": {},
     "output_type": "execute_result"
    }
   ],
   "source": [
    "df.describe()"
   ]
  },
  {
   "cell_type": "code",
   "execution_count": 6,
   "metadata": {},
   "outputs": [
    {
     "name": "stdout",
     "output_type": "stream",
     "text": [
      "     IN  OUT  INQ  FILE   ADJ    FP  EFFORT\n",
      "0    25  150   75    60  1.00  1750   102.4\n",
      "1   193   98   70    36  1.00  1902   105.2\n",
      "2    70   27    0    12  0.80   428    11.1\n",
      "3    40   60   20    12  1.15   759    21.1\n",
      "4    10   69    1     9  0.90   431    28.8\n",
      "5    13   19    0    23  0.75   283    10.0\n",
      "6    34   14    0     5  0.80   205     8.0\n",
      "7    17   17   15     5  1.10   289     4.9\n",
      "8    45   64   14    16  0.95   680    12.9\n",
      "9    40   60   20    15  1.15   794    19.0\n",
      "10   41   27   29     5  1.10   512    10.8\n",
      "11   33   17    8     5  0.75   224     2.9\n",
      "12   28   41   16    11  0.85   417     7.5\n",
      "13   43   40   20    35  0.85   682    12.0\n",
      "14    7   12   13     8  0.95   209     4.1\n",
      "15   28   38   24     9  1.05   512    15.8\n",
      "16   42   57   12     5  1.10   606    18.3\n",
      "17   27   20   24     6  1.10   400     8.9\n",
      "18   48   66   13    50  1.15  1235    38.1\n",
      "19   69  112   21    39  1.20  1572    61.2\n",
      "20   25   28    4    22  1.05   500     3.6\n",
      "21   61   68    0    11  1.00   694    11.8\n",
      "22   15   15    6     3  1.05   199     0.5\n",
      "23   12   15    0    15  0.95   260     6.1\n",
      "[[0.09677419 1.         1.         1.         0.55555556 0.91074574\n",
      "  0.97325692]\n",
      " [1.         0.62318841 0.93333333 0.57894737 0.55555556 1.\n",
      "  1.        ]\n",
      " [0.33870968 0.10869565 0.         0.15789474 0.11111111 0.13446858\n",
      "  0.10124164]\n",
      " [0.17741935 0.34782609 0.26666667 0.15789474 0.88888889 0.32883147\n",
      "  0.19675263]\n",
      " [0.01612903 0.41304348 0.01333333 0.10526316 0.33333333 0.13623018\n",
      "  0.27029608]\n",
      " [0.03225806 0.05072464 0.         0.35087719 0.         0.04932472\n",
      "  0.09073543]\n",
      " [0.14516129 0.01449275 0.         0.03508772 0.11111111 0.00352319\n",
      "  0.07163324]\n",
      " [0.05376344 0.03623188 0.2        0.03508772 0.77777778 0.05284792\n",
      "  0.04202483]\n",
      " [0.20430108 0.37681159 0.18666667 0.22807018 0.44444444 0.28244275\n",
      "  0.11843362]\n",
      " [0.17741935 0.34782609 0.26666667 0.21052632 0.88888889 0.34938344\n",
      "  0.17669532]\n",
      " [0.1827957  0.10869565 0.38666667 0.03508772 0.77777778 0.18379331\n",
      "  0.09837631]\n",
      " [0.13978495 0.03623188 0.10666667 0.03508772 0.         0.01467998\n",
      "  0.02292264]\n",
      " [0.11290323 0.21014493 0.21333333 0.14035088 0.22222222 0.1280094\n",
      "  0.06685769]\n",
      " [0.19354839 0.20289855 0.26666667 0.56140351 0.22222222 0.28361715\n",
      "  0.10983763]\n",
      " [0.         0.         0.17333333 0.0877193  0.44444444 0.00587199\n",
      "  0.03438395]\n",
      " [0.11290323 0.1884058  0.32       0.10526316 0.66666667 0.18379331\n",
      "  0.14613181]\n",
      " [0.18817204 0.32608696 0.16       0.03508772 0.77777778 0.23899002\n",
      "  0.17000955]\n",
      " [0.10752688 0.05797101 0.32       0.05263158 0.77777778 0.11802701\n",
      "  0.08022923]\n",
      " [0.22043011 0.39130435 0.17333333 0.8245614  0.88888889 0.60833823\n",
      "  0.3591213 ]\n",
      " [0.33333333 0.72463768 0.28       0.63157895 1.         0.80622431\n",
      "  0.57975167]\n",
      " [0.09677419 0.11594203 0.05333333 0.33333333 0.66666667 0.17674692\n",
      "  0.0296084 ]\n",
      " [0.29032258 0.4057971  0.         0.14035088 0.55555556 0.29066353\n",
      "  0.10792741]\n",
      " [0.04301075 0.02173913 0.08       0.         0.66666667 0.\n",
      "  0.        ]\n",
      " [0.02688172 0.02173913 0.         0.21052632 0.44444444 0.03581914\n",
      "  0.05348615]]\n"
     ]
    },
    {
     "name": "stderr",
     "output_type": "stream",
     "text": [
      "c:\\users\\ramin\\appdata\\local\\programs\\python\\python36\\lib\\site-packages\\sklearn\\preprocessing\\data.py:323: DataConversionWarning: Data with input dtype int64, float64 were all converted to float64 by MinMaxScaler.\n",
      "  return self.partial_fit(X, y)\n"
     ]
    }
   ],
   "source": [
    "scaler = MinMaxScaler()\n",
    "scaled_data = scaler.fit_transform(df)\n",
    "print(df)\n",
    "print(scaled_data)"
   ]
  },
  {
   "cell_type": "code",
   "execution_count": 7,
   "metadata": {},
   "outputs": [],
   "source": [
    "def k10Fold(nfolds,data):\n",
    "    isOdd = False\n",
    "    efsize = len(data)//nfolds\n",
    "    if len(data)-efsize*nfolds:\n",
    "        isOdd = True\n",
    "    folds = []\n",
    "    foldscounter = 0\n",
    "    counter = 0\n",
    "    curfold = []\n",
    "    i = 0\n",
    "    for item in data:\n",
    "        if foldscounter < 25:\n",
    "            if counter < efsize :\n",
    "                curfold.append(i)\n",
    "                counter += 1\n",
    "            else:\n",
    "                foldscounter+=1\n",
    "                if foldscounter != 24:\n",
    "                    folds.append(curfold)\n",
    "                    \n",
    "                    curfold = []\n",
    "                    curfold.append(i)\n",
    "                    counter = 1\n",
    "            i+=1\n",
    "        else:\n",
    "            curfold.append(i)\n",
    "            i+=1\n",
    "    folds.append(curfold)\n",
    "    print(folds)\n",
    "    return folds"
   ]
  },
  {
   "cell_type": "code",
   "execution_count": 8,
   "metadata": {},
   "outputs": [],
   "source": [
    "def trainTestSpliter(testFolIndex,data):\n",
    "    test_data = []\n",
    "    train_data = []\n",
    "    for i in range(len(data)):\n",
    "        if i not in testFolIndex:\n",
    "            train_data.append(data[i])\n",
    "        else:\n",
    "            test_data.append(data[i])\n",
    "    return np.array(train_data), np.array(test_data)"
   ]
  },
  {
   "cell_type": "code",
   "execution_count": 9,
   "metadata": {},
   "outputs": [],
   "source": [
    "def dataTargetSpluter(train_d,test_d):\n",
    "    train_x = []\n",
    "    train_y = []\n",
    "    test_x = []\n",
    "    test_y = []\n",
    "    for i in train_d:\n",
    "        train_x.append(i[:len(i)])\n",
    "        train_y.append(i[len(i)-1])\n",
    "    for i in test_d:\n",
    "        test_x.append(i[:len(i)])\n",
    "        test_y.append(i[len(i)-1])\n",
    "    return np.array(train_x), np.array(train_y), np.array(test_x), np.array(test_y)"
   ]
  },
  {
   "cell_type": "code",
   "execution_count": 10,
   "metadata": {},
   "outputs": [
    {
     "name": "stdout",
     "output_type": "stream",
     "text": [
      "[[0], [1], [2], [3], [4], [5], [6], [7], [8], [9], [10], [11], [12], [13], [14], [15], [16], [17], [18], [19], [20], [21], [22], [23]]\n"
     ]
    }
   ],
   "source": [
    "foldsIndex = k10Fold(24,scaled_data)"
   ]
  },
  {
   "cell_type": "code",
   "execution_count": 11,
   "metadata": {},
   "outputs": [
    {
     "name": "stdout",
     "output_type": "stream",
     "text": [
      "_________________________________________________________________\n",
      "Layer (type)                 Output Shape              Param #   \n",
      "=================================================================\n",
      "dense_1 (Dense)              (None, 128)               1024      \n",
      "_________________________________________________________________\n",
      "dense_2 (Dense)              (None, 64)                8256      \n",
      "_________________________________________________________________\n",
      "dense_3 (Dense)              (None, 1)                 65        \n",
      "=================================================================\n",
      "Total params: 9,345\n",
      "Trainable params: 9,345\n",
      "Non-trainable params: 0\n",
      "_________________________________________________________________\n"
     ]
    }
   ],
   "source": [
    "model = Sequential()\n",
    "model.add(Dense((128), activation=\"tanh\", input_shape=(7,)))\n",
    "model.add(Dense((64), activation=\"tanh\"))\n",
    "model.add(Dense((1), activation=\"sigmoid\"))\n",
    "\n",
    "model.summary()"
   ]
  },
  {
   "cell_type": "code",
   "execution_count": 12,
   "metadata": {},
   "outputs": [],
   "source": [
    "model.compile(loss=\"mean_squared_error\", optimizer=\"Adam\", metrics=[\"mae\",\"mape\"])"
   ]
  },
  {
   "cell_type": "code",
   "execution_count": 13,
   "metadata": {},
   "outputs": [
    {
     "name": "stdout",
     "output_type": "stream",
     "text": [
      "training started\n",
      "training stopped\n",
      "Took:  3.486927032470703\n"
     ]
    }
   ],
   "source": [
    "print(\"training started\")\n",
    "start  = time.time()\n",
    "for i in range(2):\n",
    "    for i in range(24):\n",
    "        #print(\" \")\n",
    "        #print(\"Fold \",\"#\",i+1)\n",
    "        train_data, test_data = trainTestSpliter(foldsIndex[i],scaled_data)\n",
    "        train_x, train_y, test_x, test_y = dataTargetSpluter(train_data,test_data)\n",
    "        model.fit(train_x,train_y, epochs=25, batch_size=10, verbose=0, validation_data=(test_x,test_y))\n",
    "        #print(\"#################################################################################################\")\n",
    "end = time.time()\n",
    "print(\"training stopped\")\n",
    "print(\"Took: \",end-start)"
   ]
  },
  {
   "cell_type": "code",
   "execution_count": 14,
   "metadata": {},
   "outputs": [],
   "source": [
    "all_data_x =[]\n",
    "all_data_y = []\n",
    "for i in scaled_data:\n",
    "    all_data_x.append(i[:len(i)])\n",
    "    all_data_y.append(i[len(i)-1])\n",
    "all_data_x = np.array(all_data_x)\n",
    "all_data_y = np.array(all_data_y)\n",
    "prediction = model.predict(all_data_x)"
   ]
  },
  {
   "cell_type": "code",
   "execution_count": 15,
   "metadata": {},
   "outputs": [
    {
     "data": {
      "image/png": "[encoded data removed]",
      "text/plain": [
       "<Figure size 432x288 with 1 Axes>"
      ]
     },
     "metadata": {
      "needs_background": "light"
     },
     "output_type": "display_data"
    }
   ],
   "source": [
    "plt.plot(prediction, label=\"Model Prediction\")\n",
    "plt.plot(all_data_y, label=\"Real\")\n",
    "plt.show()"
   ]
  },
  {
   "cell_type": "code",
   "execution_count": 16,
   "metadata": {},
   "outputs": [],
   "source": [
    "def mre(real,predicted):\n",
    "    return ((abs(real - predicted)) / real)"
   ]
  },
  {
   "cell_type": "code",
   "execution_count": 17,
   "metadata": {},
   "outputs": [
    {
     "name": "stdout",
     "output_type": "stream",
     "text": [
      "predicted =  [0.971864]        real =  0.973256924546323        MRE =  [0.00143124]\n",
      "predicted =  [0.9942212]        real =  1.0        MRE =  [0.00577879]\n",
      "predicted =  [0.10610526]        real =  0.10124164278892073        MRE =  [0.04803972]\n",
      "predicted =  [0.20364772]        real =  0.1967526265520535        MRE =  [0.03504449]\n",
      "predicted =  [0.27679056]        real =  0.2702960840496657        MRE =  [0.02402722]\n",
      "predicted =  [0.07271742]        real =  0.09073543457497614        MRE =  [0.1985775]\n",
      "predicted =  [0.06360935]        real =  0.07163323782234958        MRE =  [0.11201348]\n",
      "predicted =  [0.04600587]        real =  0.04202483285577842        MRE =  [0.09473072]\n",
      "predicted =  [0.11716386]        real =  0.11843361986628465        MRE =  [0.01072126]\n",
      "predicted =  [0.17785096]        real =  0.1766953199617956        MRE =  [0.00654032]\n",
      "predicted =  [0.10136861]        real =  0.09837631327602676        MRE =  [0.0304169]\n",
      "predicted =  [0.04341053]        real =  0.022922636103151865        MRE =  [0.8937842]\n",
      "predicted =  [0.06655915]        real =  0.06685768863419295        MRE =  [0.00446527]\n",
      "predicted =  [0.11840737]        real =  0.10983763132760269        MRE =  [0.07802189]\n",
      "predicted =  [0.03909364]        real =  0.03438395415472779        MRE =  [0.13697341]\n",
      "predicted =  [0.13997585]        real =  0.14613180515759314        MRE =  [0.04212603]\n",
      "predicted =  [0.16536899]        real =  0.17000955109837632        MRE =  [0.0272959]\n",
      "predicted =  [0.07487395]        real =  0.08022922636103154        MRE =  [0.0667496]\n",
      "predicted =  [0.36264265]        real =  0.3591212989493792        MRE =  [0.00980547]\n",
      "predicted =  [0.5843621]        real =  0.579751671442216        MRE =  [0.0079524]\n",
      "predicted =  [0.04552174]        real =  0.029608404966571154        MRE =  [0.53745997]\n",
      "predicted =  [0.1043485]        real =  0.10792741165234004        MRE =  [0.03316033]\n",
      "predicted =  [0.02826643]        real =  0.0        MRE =  [inf]\n",
      "predicted =  [0.04613652]        real =  0.05348615090735434        MRE =  [0.13741174]\n",
      "MMRE :  [inf]\n"
     ]
    },
    {
     "name": "stderr",
     "output_type": "stream",
     "text": [
      "c:\\users\\ramin\\appdata\\local\\programs\\python\\python36\\lib\\site-packages\\ipykernel_launcher.py:2: RuntimeWarning: divide by zero encountered in true_divide\n",
      "  \n"
     ]
    }
   ],
   "source": [
    "tmre = 0\n",
    "for i in range(len(prediction)):\n",
    "    print(\"predicted = \", prediction[i],\"      \",\"real = \", all_data_y[i],\"      \", \"MRE = \", mre(all_data_y[i],prediction[i]))\n",
    "    tmre += mre(all_data_y[i],prediction[i])\n",
    "print(\"MMRE : \",((1/24) * tmre))"
   ]
  }
 ],
 "metadata": {
  "kernelspec": {
   "display_name": "Python 3",
   "language": "python",
   "name": "python3"
  },
  "language_info": {
   "codemirror_mode": {
    "name": "ipython",
    "version": 3
   },
   "file_extension": ".py",
   "mimetype": "text/x-python",
   "name": "python",
   "nbconvert_exporter": "python",
   "pygments_lexer": "ipython3",
   "version": "3.6.8"
  }
 },
 "nbformat": 4,
 "nbformat_minor": 2
}
